{
  "nbformat": 4,
  "nbformat_minor": 0,
  "metadata": {
    "colab": {
      "provenance": []
    },
    "kernelspec": {
      "name": "python3",
      "display_name": "Python 3"
    },
    "language_info": {
      "name": "python"
    }
  },
  "cells": [
    {
      "cell_type": "markdown",
      "source": [
        "# Type Coercion in Pydantic\n",
        "* Notebook completed by Adam Lang\n",
        "* Date: 4/10/2024\n",
        "* This notebook will go over utilizing Pydantic's type coercions.\n",
        "\n",
        "\n",
        "# Type Coercion 101 in Pydantic\n",
        "* When data is deserialized into a pydantic model, type validation occurs to align the data structures with the pydantic serialization objects."
      ],
      "metadata": {
        "id": "D1X_44fXdnme"
      }
    },
    {
      "cell_type": "code",
      "execution_count": 1,
      "metadata": {
        "id": "cP2lveccdjsM"
      },
      "outputs": [],
      "source": [
        "# import libraries\n",
        "from pydantic import BaseModel, ValidationError"
      ]
    },
    {
      "cell_type": "code",
      "source": [
        "# instantiate a class\n",
        "class Coordinates(BaseModel):\n",
        "  x: float\n",
        "  y: float"
      ],
      "metadata": {
        "id": "gQtjlySFeATu"
      },
      "execution_count": 2,
      "outputs": []
    },
    {
      "cell_type": "code",
      "source": [
        "# deserialize data\n",
        "p1 = Coordinates(x=1.1, y=2.2)\n",
        "p1"
      ],
      "metadata": {
        "colab": {
          "base_uri": "https://localhost:8080/"
        },
        "id": "TIUOxGYteHX_",
        "outputId": "325ff9e5-6b40-4350-cd97-9f82da2973e3"
      },
      "execution_count": 4,
      "outputs": [
        {
          "output_type": "execute_result",
          "data": {
            "text/plain": [
              "Coordinates(x=1.1, y=2.2)"
            ]
          },
          "metadata": {},
          "execution_count": 4
        }
      ]
    },
    {
      "cell_type": "code",
      "source": [
        "# model_fields\n",
        "Coordinates.model_fields"
      ],
      "metadata": {
        "colab": {
          "base_uri": "https://localhost:8080/"
        },
        "id": "udA1INb_eKky",
        "outputId": "40933565-7b88-472f-e827-c58389b1d1bc"
      },
      "execution_count": 5,
      "outputs": [
        {
          "output_type": "execute_result",
          "data": {
            "text/plain": [
              "{'x': FieldInfo(annotation=float, required=True),\n",
              " 'y': FieldInfo(annotation=float, required=True)}"
            ]
          },
          "metadata": {},
          "execution_count": 5
        }
      ]
    },
    {
      "cell_type": "code",
      "source": [
        "# type of p1.x\n",
        "print(type(p1.x))"
      ],
      "metadata": {
        "colab": {
          "base_uri": "https://localhost:8080/"
        },
        "id": "L0TF9xbvePGh",
        "outputId": "2d832b33-c9d8-4656-f70b-5b6618e9c921"
      },
      "execution_count": 6,
      "outputs": [
        {
          "output_type": "stream",
          "name": "stdout",
          "text": [
            "<class 'float'>\n"
          ]
        }
      ]
    },
    {
      "cell_type": "markdown",
      "source": [
        "Summary:\n",
        "* So far we have EXACT type matching float = float.\n",
        "* What if there is NOT an EXACT type match, what do we do?"
      ],
      "metadata": {
        "id": "RPKPDVseeVGc"
      }
    },
    {
      "cell_type": "markdown",
      "source": [
        "## Pydantic type coercions\n",
        "* If a data structure can not be validated, Pydantic will attempt to validate on its own accord."
      ],
      "metadata": {
        "id": "ORLguk7uehBz"
      }
    },
    {
      "cell_type": "code",
      "source": [
        "p2 = Coordinates(x=0, y=\"1.2\")\n",
        "p2"
      ],
      "metadata": {
        "colab": {
          "base_uri": "https://localhost:8080/"
        },
        "id": "0ozz7pmqeTOk",
        "outputId": "3f69cc7d-7cd2-4912-e80f-4f4e86f58272"
      },
      "execution_count": 7,
      "outputs": [
        {
          "output_type": "execute_result",
          "data": {
            "text/plain": [
              "Coordinates(x=0.0, y=1.2)"
            ]
          },
          "metadata": {},
          "execution_count": 7
        }
      ]
    },
    {
      "cell_type": "code",
      "source": [
        "# validate coercions\n",
        "type(p2.x), type(p2.y)"
      ],
      "metadata": {
        "colab": {
          "base_uri": "https://localhost:8080/"
        },
        "id": "yxMxDHvzetPC",
        "outputId": "26759b90-fc07-46c2-cbcd-c2bbd7482406"
      },
      "execution_count": 8,
      "outputs": [
        {
          "output_type": "execute_result",
          "data": {
            "text/plain": [
              "(float, float)"
            ]
          },
          "metadata": {},
          "execution_count": 8
        }
      ]
    },
    {
      "cell_type": "markdown",
      "source": [
        "* Thus, we can see that Pydantic validated both as floats."
      ],
      "metadata": {
        "id": "Pc-sZqbJe4I3"
      }
    },
    {
      "cell_type": "markdown",
      "source": [
        "## Choose level of type coercion in pydantic\n",
        "* Pydantic docs give us exact conversion tables here: https://docs.pydantic.dev/latest/concepts/conversion_table/\n",
        "* There are 2 different \"modes\":\n",
        "1. Strict -> A strict conversion based on table rules.\n",
        "2. Lax -> Variable or broad mappings based on input and model rules.\n",
        "\n",
        "\n",
        "* Example:\n",
        "    * Coercing `int` -> `str`\n",
        "          * This only works in \"lax mode\" but not in strict mode.\n",
        "          * Refer to the pydantic doc table for specifics."
      ],
      "metadata": {
        "id": "dUbrQN54e--R"
      }
    },
    {
      "cell_type": "code",
      "source": [
        "## create a new model\n",
        "\n",
        "class Model(BaseModel):\n",
        "  field: str"
      ],
      "metadata": {
        "id": "-ocT25Ize3g7"
      },
      "execution_count": 9,
      "outputs": []
    },
    {
      "cell_type": "code",
      "source": [
        "# create model instance\n",
        "Model(field=\"python\")"
      ],
      "metadata": {
        "colab": {
          "base_uri": "https://localhost:8080/"
        },
        "id": "XTCzvRJagvh2",
        "outputId": "9c2b9d8e-2e92-49c1-9d72-7afe40a44180"
      },
      "execution_count": 10,
      "outputs": [
        {
          "output_type": "execute_result",
          "data": {
            "text/plain": [
              "Model(field='python')"
            ]
          },
          "metadata": {},
          "execution_count": 10
        }
      ]
    },
    {
      "cell_type": "code",
      "source": [
        "try:\n",
        "  Model(field=100)\n",
        "except ValidationError as ex:\n",
        "  print(ex)"
      ],
      "metadata": {
        "colab": {
          "base_uri": "https://localhost:8080/"
        },
        "id": "mw82eUiIgx86",
        "outputId": "686793f4-3abf-4282-89b1-0cf2c87999fc"
      },
      "execution_count": 11,
      "outputs": [
        {
          "output_type": "stream",
          "name": "stdout",
          "text": [
            "1 validation error for Model\n",
            "field\n",
            "  Input should be a valid string [type=string_type, input_value=100, input_type=int]\n",
            "    For further information visit https://errors.pydantic.dev/2.6/v/string_type\n"
          ]
        }
      ]
    },
    {
      "cell_type": "markdown",
      "source": [
        "Notes:\n",
        "* ValidationError is helpful here to prevent auto coercions to strings during deserialization."
      ],
      "metadata": {
        "id": "cghzAGd7g_Dt"
      }
    },
    {
      "cell_type": "code",
      "source": [
        "## new class\n",
        "class Contact(BaseModel):\n",
        "  email: str"
      ],
      "metadata": {
        "id": "JbhsfzNIg3w4"
      },
      "execution_count": 12,
      "outputs": []
    },
    {
      "cell_type": "code",
      "source": [
        "# utilize a json data struct\n",
        "initial_json_data = '''\n",
        "{\n",
        "  \"email\": \"inewton@principia.com\"\n",
        "}\n",
        "\n",
        "'''"
      ],
      "metadata": {
        "id": "ZCCFjhDChLGW"
      },
      "execution_count": 13,
      "outputs": []
    },
    {
      "cell_type": "code",
      "source": [
        "Contact.model_validate_json(initial_json_data)"
      ],
      "metadata": {
        "colab": {
          "base_uri": "https://localhost:8080/"
        },
        "id": "36Ibb0dshVut",
        "outputId": "312a49c9-035c-4f36-860b-d881e49c0e98"
      },
      "execution_count": 14,
      "outputs": [
        {
          "output_type": "execute_result",
          "data": {
            "text/plain": [
              "Contact(email='inewton@principia.com')"
            ]
          },
          "metadata": {},
          "execution_count": 14
        }
      ]
    },
    {
      "cell_type": "markdown",
      "source": [
        "summary: Exact data structure requested was returned."
      ],
      "metadata": {
        "id": "aV4gVesZhbgw"
      }
    },
    {
      "cell_type": "markdown",
      "source": [
        "## Scenario\n",
        "* What if we are calling an API and they change the data return structure format without informing us? Let's see how pydantic responds to type coercion."
      ],
      "metadata": {
        "id": "5i4BURHUhf0M"
      }
    },
    {
      "cell_type": "code",
      "source": [
        "new_json_data = '''\n",
        "{\n",
        "  \"email\": {\n",
        "    \"personal\": \"inewton@principia.com\",\n",
        "    \"work\": \"issac.newton@themint.com\"\n",
        "  }\n",
        "}\n",
        "\n",
        "'''"
      ],
      "metadata": {
        "id": "LwIvN5L0hZj4"
      },
      "execution_count": 15,
      "outputs": []
    },
    {
      "cell_type": "code",
      "source": [
        "# try to validate data with try and except\n",
        "try:\n",
        "  Contact.model_validate_json(new_json_data)\n",
        "except ValidationError as ex:\n",
        "  print(ex)"
      ],
      "metadata": {
        "colab": {
          "base_uri": "https://localhost:8080/"
        },
        "id": "6WL1ahW3hzv_",
        "outputId": "e0535b01-f837-4ebd-b91f-bb728e8b1f9a"
      },
      "execution_count": 17,
      "outputs": [
        {
          "output_type": "stream",
          "name": "stdout",
          "text": [
            "1 validation error for Contact\n",
            "email\n",
            "  Input should be a valid string [type=string_type, input_value={'personal': 'inewton@pri...sac.newton@themint.com'}, input_type=dict]\n",
            "    For further information visit https://errors.pydantic.dev/2.6/v/string_type\n"
          ]
        }
      ]
    },
    {
      "cell_type": "markdown",
      "source": [
        "Summary:\n",
        "* We can see the `ValidationError` that occurs during JSON deserialization"
      ],
      "metadata": {
        "id": "N6oJUsJ8h7xz"
      }
    },
    {
      "cell_type": "markdown",
      "source": [
        "#### Dictionary coercion scenario"
      ],
      "metadata": {
        "id": "uCN7b3uGiepu"
      }
    },
    {
      "cell_type": "code",
      "source": [
        "new_data = {\n",
        "    \"email\": {\n",
        "        \"personal\": \"inewton@principia.com\",\n",
        "        \"work\": \"issac.newton@themint.com\"\n",
        "    }\n",
        "}"
      ],
      "metadata": {
        "id": "avhGNDqjh6TU"
      },
      "execution_count": 18,
      "outputs": []
    },
    {
      "cell_type": "code",
      "source": [
        "Contact(email=str(new_data['email']))"
      ],
      "metadata": {
        "colab": {
          "base_uri": "https://localhost:8080/"
        },
        "id": "OG2qMPdLirGR",
        "outputId": "e7b1ee0f-7d59-4af8-a984-c9a3798d39e2"
      },
      "execution_count": 20,
      "outputs": [
        {
          "output_type": "execute_result",
          "data": {
            "text/plain": [
              "Contact(email=\"{'personal': 'inewton@principia.com', 'work': 'issac.newton@themint.com'}\")"
            ]
          },
          "metadata": {},
          "execution_count": 20
        }
      ]
    },
    {
      "cell_type": "markdown",
      "source": [
        "We can see this worked because we put in our own type hinting"
      ],
      "metadata": {
        "id": "3-aVEzQ5jGc4"
      }
    },
    {
      "cell_type": "code",
      "source": [],
      "metadata": {
        "id": "LnoiE7zgi19o"
      },
      "execution_count": null,
      "outputs": []
    }
  ]
}