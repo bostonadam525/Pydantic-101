{
  "nbformat": 4,
  "nbformat_minor": 0,
  "metadata": {
    "colab": {
      "provenance": []
    },
    "kernelspec": {
      "name": "python3",
      "display_name": "Python 3"
    },
    "language_info": {
      "name": "python"
    }
  },
  "cells": [
    {
      "cell_type": "markdown",
      "source": [
        "# Serialization in Pydantic\n",
        "* Notebook completed by Adam Lang\n",
        "* Date: 4/10/2024\n",
        "* We will review `Serialization` best practices in Pydantic.\n",
        "\n",
        "\n",
        "# Serialization Process\n",
        "* Intakes a JSON data structure => transforms into desired data structure(s).\n"
      ],
      "metadata": {
        "id": "UF5XDDXnVJDk"
      }
    },
    {
      "cell_type": "code",
      "execution_count": 2,
      "metadata": {
        "id": "HMQ4jEMoVEsd"
      },
      "outputs": [],
      "source": [
        "# import BaseModel, ValidationError\n",
        "from pydantic import BaseModel, ValidationError\n",
        "\n",
        "\n",
        "\n",
        "# instatiate a pydantic model\n",
        "class Person(BaseModel):\n",
        "  first_name: str\n",
        "  last_name: str\n",
        "  age: int"
      ]
    },
    {
      "cell_type": "markdown",
      "source": [
        "## Create an instance of the model\n",
        "* These are both Python Objects.\n",
        "* These are both dictionaries."
      ],
      "metadata": {
        "id": "IvatyL37V3M2"
      }
    },
    {
      "cell_type": "code",
      "source": [
        "galois = Person(first_name=\"Evariste\", last_name=\"Galois\", age=20)\n",
        "\n",
        "newton = Person(first_name=\"Issac\", last_name=\"Newton\", age=84)"
      ],
      "metadata": {
        "id": "fN4-Y6N-VnvE"
      },
      "execution_count": 3,
      "outputs": []
    },
    {
      "cell_type": "markdown",
      "source": [
        "## Now we can view the dictionaries we just created\n",
        "* Below is the `newton` object dictionary and its fields."
      ],
      "metadata": {
        "id": "hwxGVqn-WNcj"
      }
    },
    {
      "cell_type": "code",
      "source": [
        "newton.__dict__"
      ],
      "metadata": {
        "colab": {
          "base_uri": "https://localhost:8080/"
        },
        "id": "Tj27RRDZWKU1",
        "outputId": "917be3fa-7005-4b11-d6fe-25182b1c9e08"
      },
      "execution_count": 4,
      "outputs": [
        {
          "output_type": "execute_result",
          "data": {
            "text/plain": [
              "{'first_name': 'Issac', 'last_name': 'Newton', 'age': 84}"
            ]
          },
          "metadata": {},
          "execution_count": 4
        }
      ]
    },
    {
      "cell_type": "markdown",
      "source": [
        "## Serialization Next Steps....\n",
        "* We can choose to do the following to serialize or encode + represent the data:\n",
        "1. Generate a dictionary\n",
        "2. Generate a JSON string\n",
        "\n",
        "There are 2 methods to do this in Pydantic:\n",
        "1. `model_dump` (dictionary instance)\n",
        "2. `model_dump_json` (JSON instance)"
      ],
      "metadata": {
        "id": "uyY0L8icWyuJ"
      }
    },
    {
      "cell_type": "markdown",
      "source": [
        "#### Dictionary Serialization"
      ],
      "metadata": {
        "id": "np0FnBxFXz_-"
      }
    },
    {
      "cell_type": "code",
      "source": [
        "# model_dump example\n",
        "galois.model_dump()"
      ],
      "metadata": {
        "colab": {
          "base_uri": "https://localhost:8080/"
        },
        "id": "yDIYElPFWSO5",
        "outputId": "1bcfcdef-a020-4858-fc00-efc01db3aaa7"
      },
      "execution_count": 5,
      "outputs": [
        {
          "output_type": "execute_result",
          "data": {
            "text/plain": [
              "{'first_name': 'Evariste', 'last_name': 'Galois', 'age': 20}"
            ]
          },
          "metadata": {},
          "execution_count": 5
        }
      ]
    },
    {
      "cell_type": "code",
      "source": [
        "# verify type\n",
        "print(type(galois.model_dump()))"
      ],
      "metadata": {
        "colab": {
          "base_uri": "https://localhost:8080/"
        },
        "id": "r6NsTodeXqf5",
        "outputId": "909b937d-5b90-4224-a6d4-85fcadaa3c92"
      },
      "execution_count": 6,
      "outputs": [
        {
          "output_type": "stream",
          "name": "stdout",
          "text": [
            "<class 'dict'>\n"
          ]
        }
      ]
    },
    {
      "cell_type": "markdown",
      "source": [
        "summary: We just seralized this into a Python dictionary."
      ],
      "metadata": {
        "id": "mFBvhmknXavD"
      }
    },
    {
      "cell_type": "markdown",
      "source": [
        "#### JSON Serialization"
      ],
      "metadata": {
        "id": "EHstNDqyX2if"
      }
    },
    {
      "cell_type": "code",
      "source": [
        "galois.model_dump_json()"
      ],
      "metadata": {
        "colab": {
          "base_uri": "https://localhost:8080/",
          "height": 35
        },
        "id": "WNDuRg3OXZwq",
        "outputId": "87e8d857-68df-4803-bfa2-861604dcfbb1"
      },
      "execution_count": 7,
      "outputs": [
        {
          "output_type": "execute_result",
          "data": {
            "text/plain": [
              "'{\"first_name\":\"Evariste\",\"last_name\":\"Galois\",\"age\":20}'"
            ],
            "application/vnd.google.colaboratory.intrinsic+json": {
              "type": "string"
            }
          },
          "metadata": {},
          "execution_count": 7
        }
      ]
    },
    {
      "cell_type": "code",
      "source": [
        "print(type(galois.model_dump_json()))"
      ],
      "metadata": {
        "colab": {
          "base_uri": "https://localhost:8080/"
        },
        "id": "l_qG2WTpX7PD",
        "outputId": "360585cb-d8fc-457e-c4f1-0bc4787ec6a7"
      },
      "execution_count": 8,
      "outputs": [
        {
          "output_type": "stream",
          "name": "stdout",
          "text": [
            "<class 'str'>\n"
          ]
        }
      ]
    },
    {
      "cell_type": "markdown",
      "source": [
        "Summary: We serialized the data into a JSON data type, we can see the Python class `str`."
      ],
      "metadata": {
        "id": "AEXpsFyTYDUk"
      }
    },
    {
      "cell_type": "markdown",
      "source": [
        "#### Passing arguments to `dumps`"
      ],
      "metadata": {
        "id": "RSGzbSmKYYZp"
      }
    },
    {
      "cell_type": "code",
      "source": [
        "newton.model_dump_json(indent=2)"
      ],
      "metadata": {
        "colab": {
          "base_uri": "https://localhost:8080/",
          "height": 35
        },
        "id": "ygC_tkXvX_SQ",
        "outputId": "74ad272c-629e-4437-ad68-29d9eb60ec92"
      },
      "execution_count": 9,
      "outputs": [
        {
          "output_type": "execute_result",
          "data": {
            "text/plain": [
              "'{\\n  \"first_name\": \"Issac\",\\n  \"last_name\": \"Newton\",\\n  \"age\": 84\\n}'"
            ],
            "application/vnd.google.colaboratory.intrinsic+json": {
              "type": "string"
            }
          },
          "metadata": {},
          "execution_count": 9
        }
      ]
    },
    {
      "cell_type": "markdown",
      "source": [
        "* `indent=2` added carriage returns and spacing to the JSON return structure.\n",
        "* This does't look very readable for the user, however, this is because of the way that Jupyter Notebooks return strings - it doesn't interpret the escape characters."
      ],
      "metadata": {
        "id": "S5KV7AeJYhtQ"
      }
    },
    {
      "cell_type": "code",
      "source": [
        "## if we use print it will serialize it without the \\n\n",
        "print(newton.model_dump_json(indent=4))"
      ],
      "metadata": {
        "colab": {
          "base_uri": "https://localhost:8080/"
        },
        "id": "iXaW9ncsYgcK",
        "outputId": "c31ee6bf-3d63-4c29-cefb-f0fcf1bee83d"
      },
      "execution_count": 15,
      "outputs": [
        {
          "output_type": "stream",
          "name": "stdout",
          "text": [
            "{\n",
            "    \"first_name\": \"Issac\",\n",
            "    \"last_name\": \"Newton\",\n",
            "    \"age\": 84\n",
            "}\n"
          ]
        }
      ]
    },
    {
      "cell_type": "markdown",
      "source": [
        "* Now we have a properly formatted JSON output that has been serialized by `model_dump_json()`"
      ],
      "metadata": {
        "id": "yemtGK3yZ85i"
      }
    },
    {
      "cell_type": "markdown",
      "source": [
        "#### Refining the model_dump outputs\n",
        "* We can exclude specific fields."
      ],
      "metadata": {
        "id": "jp7-3xf_aIsk"
      }
    },
    {
      "cell_type": "code",
      "source": [
        "## exclude dictionary fields with model_dump\n",
        "galois.model_dump(exclude=['first_name','age'])"
      ],
      "metadata": {
        "colab": {
          "base_uri": "https://localhost:8080/"
        },
        "id": "VkG5VVC_Z3dp",
        "outputId": "2a3cc682-8cd2-4dc0-d734-47234ce2b5c2"
      },
      "execution_count": 12,
      "outputs": [
        {
          "output_type": "execute_result",
          "data": {
            "text/plain": [
              "{'last_name': 'Galois'}"
            ]
          },
          "metadata": {},
          "execution_count": 12
        }
      ]
    },
    {
      "cell_type": "code",
      "source": [
        "## exclude JSON fields with model_dump_json\n",
        "newton.model_dump_json(exclude=['age'])"
      ],
      "metadata": {
        "colab": {
          "base_uri": "https://localhost:8080/",
          "height": 35
        },
        "id": "McYPCEtNaeOA",
        "outputId": "9f57a563-2374-423a-c6a9-f10c86f627e6"
      },
      "execution_count": 13,
      "outputs": [
        {
          "output_type": "execute_result",
          "data": {
            "text/plain": [
              "'{\"first_name\":\"Issac\",\"last_name\":\"Newton\"}'"
            ],
            "application/vnd.google.colaboratory.intrinsic+json": {
              "type": "string"
            }
          },
          "metadata": {},
          "execution_count": 13
        }
      ]
    },
    {
      "cell_type": "markdown",
      "source": [
        "* We can include fields"
      ],
      "metadata": {
        "id": "76Is-LD-a7gq"
      }
    },
    {
      "cell_type": "code",
      "source": [
        "## include fields in a dict\n",
        "newton.model_dump(include=[\"last_name\"])"
      ],
      "metadata": {
        "colab": {
          "base_uri": "https://localhost:8080/"
        },
        "id": "T7qqlUgfau9B",
        "outputId": "5dd4207f-3336-45f5-f5ce-0b4eb0842e5b"
      },
      "execution_count": 14,
      "outputs": [
        {
          "output_type": "execute_result",
          "data": {
            "text/plain": [
              "{'last_name': 'Newton'}"
            ]
          },
          "metadata": {},
          "execution_count": 14
        }
      ]
    },
    {
      "cell_type": "code",
      "source": [],
      "metadata": {
        "id": "UL-dVE4Vb4-N"
      },
      "execution_count": null,
      "outputs": []
    }
  ]
}