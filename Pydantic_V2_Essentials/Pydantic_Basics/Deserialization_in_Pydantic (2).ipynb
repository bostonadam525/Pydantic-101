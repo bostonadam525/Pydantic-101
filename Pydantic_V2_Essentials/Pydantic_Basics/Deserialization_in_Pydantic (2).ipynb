{
  "nbformat": 4,
  "nbformat_minor": 0,
  "metadata": {
    "colab": {
      "provenance": []
    },
    "kernelspec": {
      "name": "python3",
      "display_name": "Python 3"
    },
    "language_info": {
      "name": "python"
    }
  },
  "cells": [
    {
      "cell_type": "markdown",
      "source": [
        "# Deserialization in Pydantic\n",
        "* Date: 4/5/2024\n",
        "* Notebook completed by Adam Lang as part of udemy course Pydantic V2 Essentials\n",
        "\n",
        "\n",
        "# What is Deserialization?\n",
        "* The act of taking data to create and populate a new model instance.\n",
        "    * Going from NOT a pydantic model => loading data into a pydantic class.\n",
        "    * This means taking the datatypes you are working with and breaking them down to matching them to the specific datatype validation fields you have created."
      ],
      "metadata": {
        "id": "6nWOHbqRczJD"
      }
    },
    {
      "cell_type": "code",
      "execution_count": 2,
      "metadata": {
        "id": "yuWJRmjdcjWq"
      },
      "outputs": [],
      "source": [
        "# imports\n",
        "from pydantic import BaseModel, ValidationError"
      ]
    },
    {
      "cell_type": "code",
      "source": [
        "## create BaseModel class\n",
        "class Person(BaseModel):\n",
        "  first_name: str\n",
        "  last_name: str\n",
        "  age: int"
      ],
      "metadata": {
        "id": "BqIR66UldCg6"
      },
      "execution_count": 3,
      "outputs": []
    },
    {
      "cell_type": "code",
      "source": [
        "# create instance of class again\n",
        "p = Person(first_name=\"Bruce\",last_name=\"Springsteen\", age=74)"
      ],
      "metadata": {
        "id": "sv6nNTiodgg4"
      },
      "execution_count": 4,
      "outputs": []
    },
    {
      "cell_type": "markdown",
      "source": [
        "summary:\n",
        "* We just \"deserialized\" our data by inputing the data to the BaseModel class."
      ],
      "metadata": {
        "id": "j_4B9M-bd-LR"
      }
    },
    {
      "cell_type": "code",
      "source": [],
      "metadata": {
        "id": "Cd5JIcmzd1Pi"
      },
      "execution_count": null,
      "outputs": []
    },
    {
      "cell_type": "markdown",
      "source": [
        "## Pydantic can deserialize 2 other data formats:\n",
        "1. Dictionary\n",
        "2. JSON"
      ],
      "metadata": {
        "id": "XIMU-Zx-eNl_"
      }
    },
    {
      "cell_type": "markdown",
      "source": [
        "## Dictionary Deserialization"
      ],
      "metadata": {
        "id": "zqQOuz7Qeii7"
      }
    },
    {
      "cell_type": "code",
      "source": [
        "# create python dictionary\n",
        "data = {\n",
        "    \"first_name\":\"Issac\",\n",
        "    \"last_name\":\"Newton\",\n",
        "    \"age\": 84\n",
        "}"
      ],
      "metadata": {
        "id": "x6rWplMRebvT"
      },
      "execution_count": 5,
      "outputs": []
    },
    {
      "cell_type": "code",
      "source": [
        "## can unpack the dict\n",
        "Person(**data)"
      ],
      "metadata": {
        "colab": {
          "base_uri": "https://localhost:8080/"
        },
        "id": "eQ8dLFjteu3f",
        "outputId": "bad67a4b-2873-4fb8-97aa-a6cb5c99147f"
      },
      "execution_count": 6,
      "outputs": [
        {
          "output_type": "execute_result",
          "data": {
            "text/plain": [
              "Person(first_name='Issac', last_name='Newton', age=84)"
            ]
          },
          "metadata": {},
          "execution_count": 6
        }
      ]
    },
    {
      "cell_type": "markdown",
      "source": [
        "however, unpacking a dictionary is not efficient, so instead we will show how to load a dictionary into a pydantic model the \"right way\""
      ],
      "metadata": {
        "id": "pfqjbdw2fIVK"
      }
    },
    {
      "cell_type": "code",
      "source": [
        "### model_validate\n",
        "p = Person.model_validate(data)\n",
        "p"
      ],
      "metadata": {
        "colab": {
          "base_uri": "https://localhost:8080/"
        },
        "id": "T7o-BZgWe5P8",
        "outputId": "70cea01c-7775-4c33-aa76-49c2e5c9e045"
      },
      "execution_count": 7,
      "outputs": [
        {
          "output_type": "execute_result",
          "data": {
            "text/plain": [
              "Person(first_name='Issac', last_name='Newton', age=84)"
            ]
          },
          "metadata": {},
          "execution_count": 7
        }
      ]
    },
    {
      "cell_type": "markdown",
      "source": [
        "### Validation Error Example"
      ],
      "metadata": {
        "id": "XaWfPqM8fuNL"
      }
    },
    {
      "cell_type": "code",
      "source": [
        "# create a new dictionary with 1 key, value pair\n",
        "missing_data = {\"last_name\": \"Newton\"}"
      ],
      "metadata": {
        "id": "c1mXbKJifcgR"
      },
      "execution_count": 8,
      "outputs": []
    },
    {
      "cell_type": "code",
      "source": [
        "try:\n",
        "  Person.model_validate(missing_data)\n",
        "except ValidationError as ex:\n",
        "  print(ex)"
      ],
      "metadata": {
        "colab": {
          "base_uri": "https://localhost:8080/"
        },
        "id": "jPE7mD24f3aW",
        "outputId": "dae7fc27-f3f7-43b9-c78b-fc2d93863f68"
      },
      "execution_count": 9,
      "outputs": [
        {
          "output_type": "stream",
          "name": "stdout",
          "text": [
            "2 validation errors for Person\n",
            "first_name\n",
            "  Field required [type=missing, input_value={'last_name': 'Newton'}, input_type=dict]\n",
            "    For further information visit https://errors.pydantic.dev/2.6/v/missing\n",
            "age\n",
            "  Field required [type=missing, input_value={'last_name': 'Newton'}, input_type=dict]\n",
            "    For further information visit https://errors.pydantic.dev/2.6/v/missing\n"
          ]
        }
      ]
    },
    {
      "cell_type": "markdown",
      "source": [
        "summary: As expected we had 2 ValidationErrors since we only passed 1 field (last_name) to the pydantic model thus it was not able to deserialize the 2 other required fields and raised the errors."
      ],
      "metadata": {
        "id": "frWJ95f0gO4a"
      }
    },
    {
      "cell_type": "markdown",
      "source": [
        "## JSON Deserialization"
      ],
      "metadata": {
        "id": "NSWeQ0RrgpOl"
      }
    },
    {
      "cell_type": "code",
      "source": [
        "data_json = '''\n",
        "{\n",
        "  \"first_name\": \"Issac\",\n",
        "  \"last_name\": \"Newton\",\n",
        "  \"age\": 84\n",
        "}\n",
        "'''"
      ],
      "metadata": {
        "id": "s6eUq4r7gF1X"
      },
      "execution_count": 10,
      "outputs": []
    },
    {
      "cell_type": "markdown",
      "source": [
        "#### Now we can deserialize the JSON data using `model_validate_json`\n",
        "* Notice we are NOT using `model_validate` which is specific to python dictionaries only."
      ],
      "metadata": {
        "id": "oWWBPb9uhJGr"
      }
    },
    {
      "cell_type": "code",
      "source": [
        "# pass JSON data to BaseModel class\n",
        "p = Person.model_validate_json(data_json)\n",
        "p"
      ],
      "metadata": {
        "colab": {
          "base_uri": "https://localhost:8080/"
        },
        "id": "s7JFN11mg1mJ",
        "outputId": "f8857c57-3a05-4e43-e38a-bfac6c716047"
      },
      "execution_count": 12,
      "outputs": [
        {
          "output_type": "execute_result",
          "data": {
            "text/plain": [
              "Person(first_name='Issac', last_name='Newton', age=84)"
            ]
          },
          "metadata": {},
          "execution_count": 12
        }
      ]
    },
    {
      "cell_type": "code",
      "source": [
        "## data validation example\n",
        "data_json = '''\n",
        "{\n",
        "  \"first_name\": \"Issac\"\n",
        "}\n",
        "'''\n",
        "\n",
        "### try to validate this\n",
        "try:\n",
        "  Person.model_validate_json(data_json)\n",
        "except ValidationError as ex:\n",
        "  print(ex)"
      ],
      "metadata": {
        "colab": {
          "base_uri": "https://localhost:8080/"
        },
        "id": "Og6zxLv8hdJJ",
        "outputId": "5240483c-6ba4-427d-a98d-9df50635adc2"
      },
      "execution_count": 15,
      "outputs": [
        {
          "output_type": "stream",
          "name": "stdout",
          "text": [
            "2 validation errors for Person\n",
            "last_name\n",
            "  Field required [type=missing, input_value={'first_name': 'Issac'}, input_type=dict]\n",
            "    For further information visit https://errors.pydantic.dev/2.6/v/missing\n",
            "age\n",
            "  Field required [type=missing, input_value={'first_name': 'Issac'}, input_type=dict]\n",
            "    For further information visit https://errors.pydantic.dev/2.6/v/missing\n"
          ]
        }
      ]
    },
    {
      "cell_type": "markdown",
      "source": [
        "Summary:\n",
        "* As expected we were returned 2 validation errors since 2 fields were missing from the JSON."
      ],
      "metadata": {
        "id": "0ufkLBV6h6_V"
      }
    },
    {
      "cell_type": "code",
      "source": [],
      "metadata": {
        "id": "2JpLhtcrhsQV"
      },
      "execution_count": null,
      "outputs": []
    }
  ]
}