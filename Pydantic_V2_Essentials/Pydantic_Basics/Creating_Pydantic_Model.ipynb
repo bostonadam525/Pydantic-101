{
  "nbformat": 4,
  "nbformat_minor": 0,
  "metadata": {
    "colab": {
      "provenance": []
    },
    "kernelspec": {
      "name": "python3",
      "display_name": "Python 3"
    },
    "language_info": {
      "name": "python"
    }
  },
  "cells": [
    {
      "cell_type": "markdown",
      "source": [
        "# Creating a Pydantic Model\n",
        "* Notebook by Adam Lang\n",
        "* Date: 4/5/2024\n",
        "* Process to create a Pydantic Model. Completed as part of the udemy course \"Pydantic V2: Essentials\"."
      ],
      "metadata": {
        "id": "gLaDoxt0UpVI"
      }
    },
    {
      "cell_type": "code",
      "execution_count": 3,
      "metadata": {
        "id": "H7uWgltKUbiO"
      },
      "outputs": [],
      "source": [
        "# forms basis for our entire model\n",
        "from pydantic import BaseModel"
      ]
    },
    {
      "cell_type": "code",
      "source": [
        "# create Basemodel class\n",
        "class Person(BaseModel):\n",
        "  first_name: str\n",
        "  last_name: str\n",
        "  age: int"
      ],
      "metadata": {
        "id": "9vIGx4RkVAS1"
      },
      "execution_count": 4,
      "outputs": []
    },
    {
      "cell_type": "markdown",
      "source": [
        "summary:\n",
        "* We just defined a basic pydantic model.\n",
        "* Why is it a basic model? It inherits from the Pydantic `BaseModel` class.\n",
        "* This is also a regular python class and can be modified as such.\n",
        "* Each field was provided a type hint.\n",
        "    * Tip: You can use any python type hint you want."
      ],
      "metadata": {
        "id": "h3RajvTUVV51"
      }
    },
    {
      "cell_type": "markdown",
      "source": [
        "## Create instance of the model"
      ],
      "metadata": {
        "id": "kGFsEBX0VscF"
      }
    },
    {
      "cell_type": "code",
      "source": [
        "p = Person(first_name=\"Tom\", last_name=\"Brady\", age=45)"
      ],
      "metadata": {
        "id": "u9smBftVVT1T"
      },
      "execution_count": 5,
      "outputs": []
    },
    {
      "cell_type": "code",
      "source": [
        "str(p)"
      ],
      "metadata": {
        "colab": {
          "base_uri": "https://localhost:8080/",
          "height": 35
        },
        "id": "ygxVD9IrV5WH",
        "outputId": "55f459bf-ae98-487c-b240-4271f40542a9"
      },
      "execution_count": 6,
      "outputs": [
        {
          "output_type": "execute_result",
          "data": {
            "text/plain": [
              "\"first_name='Tom' last_name='Brady' age=45\""
            ],
            "application/vnd.google.colaboratory.intrinsic+json": {
              "type": "string"
            }
          },
          "metadata": {},
          "execution_count": 6
        }
      ]
    },
    {
      "cell_type": "code",
      "source": [
        "repr(p)"
      ],
      "metadata": {
        "colab": {
          "base_uri": "https://localhost:8080/",
          "height": 35
        },
        "id": "53icJrmMV8DW",
        "outputId": "8dded1c5-d0c3-4ce4-9e32-2041e3ea8ea7"
      },
      "execution_count": 7,
      "outputs": [
        {
          "output_type": "execute_result",
          "data": {
            "text/plain": [
              "\"Person(first_name='Tom', last_name='Brady', age=45)\""
            ],
            "application/vnd.google.colaboratory.intrinsic+json": {
              "type": "string"
            }
          },
          "metadata": {},
          "execution_count": 7
        }
      ]
    },
    {
      "cell_type": "code",
      "source": [
        "p"
      ],
      "metadata": {
        "colab": {
          "base_uri": "https://localhost:8080/"
        },
        "id": "uPULuGHbV9n5",
        "outputId": "08f6ea27-534f-4204-ed98-3a714d1b4ac7"
      },
      "execution_count": 8,
      "outputs": [
        {
          "output_type": "execute_result",
          "data": {
            "text/plain": [
              "Person(first_name='Tom', last_name='Brady', age=45)"
            ]
          },
          "metadata": {},
          "execution_count": 8
        }
      ]
    },
    {
      "cell_type": "code",
      "source": [
        "# inspect fields of pydantic model\n",
        "p.model_fields"
      ],
      "metadata": {
        "colab": {
          "base_uri": "https://localhost:8080/"
        },
        "id": "PAC8HoPVWIYx",
        "outputId": "42e1f547-972c-40d2-c792-29f366a36ba1"
      },
      "execution_count": 9,
      "outputs": [
        {
          "output_type": "execute_result",
          "data": {
            "text/plain": [
              "{'first_name': FieldInfo(annotation=str, required=True),\n",
              " 'last_name': FieldInfo(annotation=str, required=True),\n",
              " 'age': FieldInfo(annotation=int, required=True)}"
            ]
          },
          "metadata": {},
          "execution_count": 9
        }
      ]
    },
    {
      "cell_type": "markdown",
      "source": [
        "summary: Notice above each pydantic field has parameter `required=True`."
      ],
      "metadata": {
        "id": "yRoFNVFOWVRq"
      }
    },
    {
      "cell_type": "code",
      "source": [
        "from pydantic import ValidationError"
      ],
      "metadata": {
        "id": "dV6dQpraWMQe"
      },
      "execution_count": 10,
      "outputs": []
    },
    {
      "cell_type": "code",
      "source": [
        "## what happens if you create instance of class that does not have required\n",
        "try:\n",
        "  Person(last_name=\"Brady\")\n",
        "except ValidationError as ex:\n",
        "  print(ex)"
      ],
      "metadata": {
        "colab": {
          "base_uri": "https://localhost:8080/"
        },
        "id": "idjLnGZWWer7",
        "outputId": "2b901872-f74a-490f-84b1-51ff76d15c84"
      },
      "execution_count": 12,
      "outputs": [
        {
          "output_type": "stream",
          "name": "stdout",
          "text": [
            "2 validation errors for Person\n",
            "first_name\n",
            "  Field required [type=missing, input_value={'last_name': 'Brady'}, input_type=dict]\n",
            "    For further information visit https://errors.pydantic.dev/2.6/v/missing\n",
            "age\n",
            "  Field required [type=missing, input_value={'last_name': 'Brady'}, input_type=dict]\n",
            "    For further information visit https://errors.pydantic.dev/2.6/v/missing\n"
          ]
        }
      ]
    },
    {
      "cell_type": "markdown",
      "source": [
        "## Example of more detailed Class creation"
      ],
      "metadata": {
        "id": "WXfQ2C1tXLoG"
      }
    },
    {
      "cell_type": "code",
      "source": [
        "class Person(BaseModel):\n",
        "  first_name: str\n",
        "  last_name: str\n",
        "  age: int\n",
        "\n",
        "  # add decorator\n",
        "  @property\n",
        "  def display_name(self):\n",
        "    return f\"{self.first_name} {self.last_name}\""
      ],
      "metadata": {
        "id": "TXrYVvB9Wsd7"
      },
      "execution_count": 13,
      "outputs": []
    },
    {
      "cell_type": "code",
      "source": [
        "# create person instance again\n",
        "p = Person(first_name=\"Tom\", last_name=\"Brady\", age=45)"
      ],
      "metadata": {
        "id": "iIXbd6zeXz9p"
      },
      "execution_count": 14,
      "outputs": []
    },
    {
      "cell_type": "code",
      "source": [
        "# access each\n",
        "p.display_name"
      ],
      "metadata": {
        "colab": {
          "base_uri": "https://localhost:8080/",
          "height": 35
        },
        "id": "jeboz1SIX7HK",
        "outputId": "924c1f9e-88e7-47df-e8d7-b7c5d7b58e57"
      },
      "execution_count": 15,
      "outputs": [
        {
          "output_type": "execute_result",
          "data": {
            "text/plain": [
              "'Tom Brady'"
            ],
            "application/vnd.google.colaboratory.intrinsic+json": {
              "type": "string"
            }
          },
          "metadata": {},
          "execution_count": 15
        }
      ]
    },
    {
      "cell_type": "code",
      "source": [
        "p.first_name"
      ],
      "metadata": {
        "colab": {
          "base_uri": "https://localhost:8080/",
          "height": 35
        },
        "id": "xvUj0cLiX_1N",
        "outputId": "a9f0da68-2be4-4f59-c4e7-96d031e64cd0"
      },
      "execution_count": 16,
      "outputs": [
        {
          "output_type": "execute_result",
          "data": {
            "text/plain": [
              "'Tom'"
            ],
            "application/vnd.google.colaboratory.intrinsic+json": {
              "type": "string"
            }
          },
          "metadata": {},
          "execution_count": 16
        }
      ]
    },
    {
      "cell_type": "code",
      "source": [
        "p.age"
      ],
      "metadata": {
        "colab": {
          "base_uri": "https://localhost:8080/"
        },
        "id": "DpEj8_gYYBIS",
        "outputId": "85e53b65-5fb9-459b-8450-2f9bc2787d94"
      },
      "execution_count": 17,
      "outputs": [
        {
          "output_type": "execute_result",
          "data": {
            "text/plain": [
              "45"
            ]
          },
          "metadata": {},
          "execution_count": 17
        }
      ]
    },
    {
      "cell_type": "code",
      "source": [
        "p.age = 46"
      ],
      "metadata": {
        "id": "qzWthUONYCFf"
      },
      "execution_count": 18,
      "outputs": []
    },
    {
      "cell_type": "code",
      "source": [
        "# updated p\n",
        "p"
      ],
      "metadata": {
        "colab": {
          "base_uri": "https://localhost:8080/"
        },
        "id": "65e1b_5wYEPA",
        "outputId": "bbee40c4-b3f9-40f5-e10d-e76f922b4095"
      },
      "execution_count": 19,
      "outputs": [
        {
          "output_type": "execute_result",
          "data": {
            "text/plain": [
              "Person(first_name='Tom', last_name='Brady', age=46)"
            ]
          },
          "metadata": {},
          "execution_count": 19
        }
      ]
    },
    {
      "cell_type": "markdown",
      "source": [
        "## Remember: Pydantic is essentially a validation library!"
      ],
      "metadata": {
        "id": "JUMy4q77YPgC"
      }
    },
    {
      "cell_type": "code",
      "source": [
        "# another example of data validation\n",
        "try:\n",
        "  Person(first_name=\"Tom\", last_name=\"Brady\", age=\"fourty six\") ## input incorrect data type for age\n",
        "except ValidationError as ex:\n",
        "  print(ex)\n"
      ],
      "metadata": {
        "colab": {
          "base_uri": "https://localhost:8080/"
        },
        "id": "Unm-iVEBYFfN",
        "outputId": "99430368-8f98-4bcb-bcfe-915d4fb7a0af"
      },
      "execution_count": 20,
      "outputs": [
        {
          "output_type": "stream",
          "name": "stdout",
          "text": [
            "1 validation error for Person\n",
            "age\n",
            "  Input should be a valid integer, unable to parse string as an integer [type=int_parsing, input_value='fourty six', input_type=str]\n",
            "    For further information visit https://errors.pydantic.dev/2.6/v/int_parsing\n"
          ]
        }
      ]
    },
    {
      "cell_type": "code",
      "source": [
        "# print p again\n",
        "p"
      ],
      "metadata": {
        "colab": {
          "base_uri": "https://localhost:8080/"
        },
        "id": "LTYS9TGiYnqp",
        "outputId": "a0f6118f-3769-478e-b74a-78ebc11df0f3"
      },
      "execution_count": 21,
      "outputs": [
        {
          "output_type": "execute_result",
          "data": {
            "text/plain": [
              "Person(first_name='Tom', last_name='Brady', age=46)"
            ]
          },
          "metadata": {},
          "execution_count": 21
        }
      ]
    },
    {
      "cell_type": "code",
      "source": [
        "## update age\n",
        "p.age = 45"
      ],
      "metadata": {
        "id": "I21NMxuvYyNq"
      },
      "execution_count": 22,
      "outputs": []
    },
    {
      "cell_type": "markdown",
      "source": [
        "## However, you can update the data type as so:"
      ],
      "metadata": {
        "id": "kkSp6PNHY_57"
      }
    },
    {
      "cell_type": "code",
      "source": [
        "p.age = \"fourty six\""
      ],
      "metadata": {
        "id": "Gpb4Iyg6Y4lA"
      },
      "execution_count": 23,
      "outputs": []
    },
    {
      "cell_type": "code",
      "source": [
        "# lets see output\n",
        "p"
      ],
      "metadata": {
        "colab": {
          "base_uri": "https://localhost:8080/"
        },
        "id": "Fm8zddtKZEuE",
        "outputId": "9b772b7b-c7e5-4710-9e89-8421a5aec98a"
      },
      "execution_count": 24,
      "outputs": [
        {
          "output_type": "execute_result",
          "data": {
            "text/plain": [
              "Person(first_name='Tom', last_name='Brady', age='fourty six')"
            ]
          },
          "metadata": {},
          "execution_count": 24
        }
      ]
    },
    {
      "cell_type": "markdown",
      "source": [
        "Summary:\n",
        "* Pydantic is not going to validate the data unless you create the validation when you create the class.\n",
        "* Therefore, by updating the variable \"age\" in the object we created \"p\" is not going to provide data validation."
      ],
      "metadata": {
        "id": "_N9yjj2rZQ2I"
      }
    },
    {
      "cell_type": "code",
      "source": [],
      "metadata": {
        "id": "Lq_l3jGEZIiM"
      },
      "execution_count": null,
      "outputs": []
    },
    {
      "cell_type": "markdown",
      "source": [
        "# Additional examples of creating class"
      ],
      "metadata": {
        "id": "p6HyOHneaKrW"
      }
    },
    {
      "cell_type": "code",
      "source": [
        "# class\n",
        "class Dog(BaseModel):\n",
        "  name: str\n",
        "  breed: str\n",
        "  age: int"
      ],
      "metadata": {
        "id": "wTedUzU6aMuO"
      },
      "execution_count": 26,
      "outputs": []
    },
    {
      "cell_type": "code",
      "source": [
        "# create instance of the class\n",
        "d = Dog(name=\"Norman\",breed=\"pug\",age=12)"
      ],
      "metadata": {
        "id": "oU8RWVP6aYSM"
      },
      "execution_count": 27,
      "outputs": []
    },
    {
      "cell_type": "code",
      "source": [
        "# access\n",
        "d"
      ],
      "metadata": {
        "colab": {
          "base_uri": "https://localhost:8080/"
        },
        "id": "vw9jBBwEazyv",
        "outputId": "20d68cb2-3cda-4ea3-a0c5-39958a226b93"
      },
      "execution_count": 28,
      "outputs": [
        {
          "output_type": "execute_result",
          "data": {
            "text/plain": [
              "Dog(name='Norman', breed='pug', age=12)"
            ]
          },
          "metadata": {},
          "execution_count": 28
        }
      ]
    },
    {
      "cell_type": "code",
      "source": [
        "d.name"
      ],
      "metadata": {
        "colab": {
          "base_uri": "https://localhost:8080/",
          "height": 35
        },
        "id": "1GnnKFTUa1R6",
        "outputId": "736889ef-4427-423e-94ec-448b7e3e2acb"
      },
      "execution_count": 29,
      "outputs": [
        {
          "output_type": "execute_result",
          "data": {
            "text/plain": [
              "'Norman'"
            ],
            "application/vnd.google.colaboratory.intrinsic+json": {
              "type": "string"
            }
          },
          "metadata": {},
          "execution_count": 29
        }
      ]
    },
    {
      "cell_type": "code",
      "source": [
        "d.breed"
      ],
      "metadata": {
        "colab": {
          "base_uri": "https://localhost:8080/",
          "height": 35
        },
        "id": "Qt8277Yba2jl",
        "outputId": "2687d501-04b7-4007-e7b6-2d1f9315f611"
      },
      "execution_count": 30,
      "outputs": [
        {
          "output_type": "execute_result",
          "data": {
            "text/plain": [
              "'pug'"
            ],
            "application/vnd.google.colaboratory.intrinsic+json": {
              "type": "string"
            }
          },
          "metadata": {},
          "execution_count": 30
        }
      ]
    },
    {
      "cell_type": "code",
      "source": [
        "d.age"
      ],
      "metadata": {
        "colab": {
          "base_uri": "https://localhost:8080/"
        },
        "id": "hQLQi0c9a3wD",
        "outputId": "13f8339b-aa78-47a5-bc44-3ebc609f5c68"
      },
      "execution_count": 31,
      "outputs": [
        {
          "output_type": "execute_result",
          "data": {
            "text/plain": [
              "12"
            ]
          },
          "metadata": {},
          "execution_count": 31
        }
      ]
    },
    {
      "cell_type": "code",
      "source": [
        "## try validation error\n",
        "try:\n",
        "  Dog(name=\"Norman\",breed=\"pug\",age=\"twelve\")\n",
        "except ValidationError as ex:\n",
        "  print(ex)"
      ],
      "metadata": {
        "colab": {
          "base_uri": "https://localhost:8080/"
        },
        "id": "Rog7WJLya4yC",
        "outputId": "aff33f3a-00cc-471b-f4ff-5f22a4aa990c"
      },
      "execution_count": 32,
      "outputs": [
        {
          "output_type": "stream",
          "name": "stdout",
          "text": [
            "1 validation error for Dog\n",
            "age\n",
            "  Input should be a valid integer, unable to parse string as an integer [type=int_parsing, input_value='twelve', input_type=str]\n",
            "    For further information visit https://errors.pydantic.dev/2.6/v/int_parsing\n"
          ]
        }
      ]
    },
    {
      "cell_type": "code",
      "source": [],
      "metadata": {
        "id": "c8cdE36-bXZf"
      },
      "execution_count": null,
      "outputs": []
    }
  ]
}