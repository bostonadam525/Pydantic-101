{
  "nbformat": 4,
  "nbformat_minor": 0,
  "metadata": {
    "colab": {
      "provenance": []
    },
    "kernelspec": {
      "name": "python3",
      "display_name": "Python 3"
    },
    "language_info": {
      "name": "python"
    }
  },
  "cells": [
    {
      "cell_type": "markdown",
      "source": [
        "# Required vs. Optional Fields in Pydantic\n",
        "* Notebook completed by Adam Lang\n",
        "* Date: 4/10/2024\n",
        "* This notebook goes over Required vs. Optional Fields in Pydantic and the implementation of it.\n",
        "* This is from the udemy course Pydantic V2 Essentials.\n",
        "\n",
        "\n",
        "So far all of the data fields we had defined in our pydantic models were required. Let's look at some ways to define required vs. optional field typing."
      ],
      "metadata": {
        "id": "UpoUNHSSf3KB"
      }
    },
    {
      "cell_type": "code",
      "execution_count": 14,
      "metadata": {
        "id": "0zrSvn7rfyj3"
      },
      "outputs": [],
      "source": [
        "# create pydantic models\n",
        "from pydantic import BaseModel, ValidationError\n",
        "\n",
        "class Circle(BaseModel):\n",
        "  center: tuple[int, int]\n",
        "  radius: int"
      ]
    },
    {
      "cell_type": "code",
      "source": [
        "Circle.model_fields"
      ],
      "metadata": {
        "colab": {
          "base_uri": "https://localhost:8080/"
        },
        "id": "6TjSbSsJgpuI",
        "outputId": "7d27010f-89d3-470f-cd3a-9fd3e6a6d6f8"
      },
      "execution_count": 15,
      "outputs": [
        {
          "output_type": "execute_result",
          "data": {
            "text/plain": [
              "{'center': FieldInfo(annotation=tuple[int, int], required=True),\n",
              " 'radius': FieldInfo(annotation=int, required=True)}"
            ]
          },
          "metadata": {},
          "execution_count": 15
        }
      ]
    },
    {
      "cell_type": "markdown",
      "source": [
        "Now, change the `required=True` field."
      ],
      "metadata": {
        "id": "oATBFpaSo8t0"
      }
    },
    {
      "cell_type": "code",
      "source": [
        "class Circle(BaseModel):\n",
        "  center: tuple[int, int] = (0, 0)\n",
        "  radius: int"
      ],
      "metadata": {
        "id": "dlzup3r-grPx"
      },
      "execution_count": 16,
      "outputs": []
    },
    {
      "cell_type": "code",
      "source": [
        "# try again\n",
        "Circle.model_fields"
      ],
      "metadata": {
        "colab": {
          "base_uri": "https://localhost:8080/"
        },
        "id": "0OsNi49CpcLA",
        "outputId": "482f2df9-efc4-4b33-ab87-760c8f3f9b47"
      },
      "execution_count": 17,
      "outputs": [
        {
          "output_type": "execute_result",
          "data": {
            "text/plain": [
              "{'center': FieldInfo(annotation=tuple[int, int], required=False, default=(0, 0)),\n",
              " 'radius': FieldInfo(annotation=int, required=True)}"
            ]
          },
          "metadata": {},
          "execution_count": 17
        }
      ]
    },
    {
      "cell_type": "markdown",
      "source": [
        "Changed `required=` to False and added default values"
      ],
      "metadata": {
        "id": "thtdoL-epmFt"
      }
    },
    {
      "cell_type": "code",
      "source": [
        "# create instance and define\n",
        "Circle(radius=1)"
      ],
      "metadata": {
        "colab": {
          "base_uri": "https://localhost:8080/"
        },
        "id": "yN6o0Fripkv1",
        "outputId": "801e4a53-f7ac-45c4-d7d7-317a4a6cf5a8"
      },
      "execution_count": 18,
      "outputs": [
        {
          "output_type": "execute_result",
          "data": {
            "text/plain": [
              "Circle(center=(0, 0), radius=1)"
            ]
          },
          "metadata": {},
          "execution_count": 18
        }
      ]
    },
    {
      "cell_type": "markdown",
      "source": [
        "## Works with dictionary and JSON deserialization"
      ],
      "metadata": {
        "id": "e7EdqkaWxy82"
      }
    },
    {
      "cell_type": "code",
      "source": [
        "#create dict\n",
        "data = {\"radius\": 1}\n",
        "data_json = '{\"radius\": 1}'"
      ],
      "metadata": {
        "id": "W-j0YizlqLL3"
      },
      "execution_count": 19,
      "outputs": []
    },
    {
      "cell_type": "code",
      "source": [
        "# validate dict\n",
        "Circle.model_validate(data)"
      ],
      "metadata": {
        "colab": {
          "base_uri": "https://localhost:8080/"
        },
        "id": "qNRNt0K2x-i5",
        "outputId": "09e0ea62-ce61-469f-8198-b37e0eb0ec3d"
      },
      "execution_count": 20,
      "outputs": [
        {
          "output_type": "execute_result",
          "data": {
            "text/plain": [
              "Circle(center=(0, 0), radius=1)"
            ]
          },
          "metadata": {},
          "execution_count": 20
        }
      ]
    },
    {
      "cell_type": "code",
      "source": [
        "# validate json\n",
        "Circle.model_validate_json(data_json)"
      ],
      "metadata": {
        "colab": {
          "base_uri": "https://localhost:8080/"
        },
        "id": "aGhEVgwQyARj",
        "outputId": "2892bc75-7017-427c-f41f-8ddf63f1e8e7"
      },
      "execution_count": 21,
      "outputs": [
        {
          "output_type": "execute_result",
          "data": {
            "text/plain": [
              "Circle(center=(0, 0), radius=1)"
            ]
          },
          "metadata": {},
          "execution_count": 21
        }
      ]
    },
    {
      "cell_type": "markdown",
      "source": [
        "#### Provide a value for Circle"
      ],
      "metadata": {
        "id": "RdU8tyJ8yPQ7"
      }
    },
    {
      "cell_type": "code",
      "source": [
        "Circle(center=(1,1), radius=2)"
      ],
      "metadata": {
        "colab": {
          "base_uri": "https://localhost:8080/"
        },
        "id": "GFil_dDcyGFE",
        "outputId": "1f535117-a9ec-4531-ab96-55c68da7e079"
      },
      "execution_count": 22,
      "outputs": [
        {
          "output_type": "execute_result",
          "data": {
            "text/plain": [
              "Circle(center=(1, 1), radius=2)"
            ]
          },
          "metadata": {},
          "execution_count": 22
        }
      ]
    },
    {
      "cell_type": "markdown",
      "source": [
        "## Reminder about Deserialization\n",
        "* Pyndantic validates a model during deserialization process BEFORE putting into pydantic model instance."
      ],
      "metadata": {
        "id": "s36SAc41yagW"
      }
    },
    {
      "cell_type": "code",
      "source": [
        "try:\n",
        "  Circle(center=\"100\", radius=2)\n",
        "except ValidationError as ex:\n",
        "  print(ex)"
      ],
      "metadata": {
        "colab": {
          "base_uri": "https://localhost:8080/"
        },
        "id": "qADuFT55yU6s",
        "outputId": "93d96d38-b452-43d8-9319-c7c7799e5cca"
      },
      "execution_count": 23,
      "outputs": [
        {
          "output_type": "stream",
          "name": "stdout",
          "text": [
            "1 validation error for Circle\n",
            "center\n",
            "  Input should be a valid tuple [type=tuple_type, input_value='100', input_type=str]\n",
            "    For further information visit https://errors.pydantic.dev/2.6/v/tuple_type\n"
          ]
        }
      ]
    },
    {
      "cell_type": "code",
      "source": [
        "# create model with correct center\n",
        "c = Circle(radius=2)\n",
        "c"
      ],
      "metadata": {
        "colab": {
          "base_uri": "https://localhost:8080/"
        },
        "id": "KL-oRso3y-Tj",
        "outputId": "d98abbc5-0f6b-4c28-b723-57dc76d25553"
      },
      "execution_count": 24,
      "outputs": [
        {
          "output_type": "execute_result",
          "data": {
            "text/plain": [
              "Circle(center=(0, 0), radius=2)"
            ]
          },
          "metadata": {},
          "execution_count": 24
        }
      ]
    },
    {
      "cell_type": "markdown",
      "source": [
        "#### By default Pydantic will validate what you give it....\n",
        "* So below we can see we gave it the optional field string of \"junk\" and it validated it during deserialization. Obviously this is not best practices but demonstrates how pydantic works.\n",
        "* As a developer it is your responsibility to assign the correct default data types."
      ],
      "metadata": {
        "id": "iCGjeu39zhEQ"
      }
    },
    {
      "cell_type": "code",
      "source": [
        "class Circle(BaseModel):\n",
        "  center: tuple[int, int] = \"junk\"\n",
        "  radius: int"
      ],
      "metadata": {
        "id": "U-druQq2zHvt"
      },
      "execution_count": 27,
      "outputs": []
    },
    {
      "cell_type": "code",
      "source": [
        "# instantiate model\n",
        "Circle(radius=2)"
      ],
      "metadata": {
        "colab": {
          "base_uri": "https://localhost:8080/"
        },
        "id": "uRkQI7yhzmmk",
        "outputId": "a5f27a4d-7c7b-4f13-e604-413c3c488414"
      },
      "execution_count": 28,
      "outputs": [
        {
          "output_type": "execute_result",
          "data": {
            "text/plain": [
              "Circle(center='junk', radius=2)"
            ]
          },
          "metadata": {},
          "execution_count": 28
        }
      ]
    },
    {
      "cell_type": "code",
      "source": [],
      "metadata": {
        "id": "hM2tsL5yzpgr"
      },
      "execution_count": null,
      "outputs": []
    },
    {
      "cell_type": "markdown",
      "source": [
        "# Pydantic Data Pearls\n",
        "* You can use an empty list in a class as below, Pydantic creates a new list everytime this data type is encountered"
      ],
      "metadata": {
        "id": "N5rr3YP81QpH"
      }
    },
    {
      "cell_type": "code",
      "source": [
        "class Model(BaseModel):\n",
        "  my_list: list[int] = []"
      ],
      "metadata": {
        "id": "vCt675EC1JWF"
      },
      "execution_count": 29,
      "outputs": []
    },
    {
      "cell_type": "markdown",
      "source": [
        "## However, below is an example of WHAT NOT TO DO\n",
        "* The problem we see below:\n",
        "1. We defined a default function parameter as an empty list.\n",
        "2. We are then appending to that list everytime the function is called.\n",
        "3. We will see why this is bad in the cell below this, but we will see that this does not prevent you from continuing to modify the list globally and locally."
      ],
      "metadata": {
        "id": "rFapDb_r1gYo"
      }
    },
    {
      "cell_type": "code",
      "source": [
        "from time import time\n",
        "\n",
        "def extend_list(user_list: list=[]):\n",
        "  user_list.append(int(time()))\n",
        "  return user_list"
      ],
      "metadata": {
        "id": "h6dMrpNm1PA5"
      },
      "execution_count": 35,
      "outputs": []
    },
    {
      "cell_type": "code",
      "source": [
        "## create a global list\n",
        "my_times = []\n",
        "extend_list(my_times) # pass global empty list to function\n",
        "#print it\n",
        "my_times"
      ],
      "metadata": {
        "colab": {
          "base_uri": "https://localhost:8080/"
        },
        "id": "aUtYwOEg1p12",
        "outputId": "5099dbbe-1bca-4c6f-9ad6-c8e0fdd44872"
      },
      "execution_count": 38,
      "outputs": [
        {
          "output_type": "execute_result",
          "data": {
            "text/plain": [
              "[1712783492]"
            ]
          },
          "metadata": {},
          "execution_count": 38
        }
      ]
    },
    {
      "cell_type": "code",
      "source": [
        "## assign empty function to new variable\n",
        "my_times = extend_list()\n",
        "my_times"
      ],
      "metadata": {
        "colab": {
          "base_uri": "https://localhost:8080/"
        },
        "id": "T4z4zqoM2G1-",
        "outputId": "bfae5d0b-c8b6-45e9-9dec-c73173da8fee"
      },
      "execution_count": 39,
      "outputs": [
        {
          "output_type": "execute_result",
          "data": {
            "text/plain": [
              "[1712783493]"
            ]
          },
          "metadata": {},
          "execution_count": 39
        }
      ]
    },
    {
      "cell_type": "code",
      "source": [
        "my_new_times = extend_list()\n",
        "my_new_times"
      ],
      "metadata": {
        "colab": {
          "base_uri": "https://localhost:8080/"
        },
        "id": "B2LcJ-zs2Ntx",
        "outputId": "fb635be9-62fc-4be5-b1bf-01b6117d0c4e"
      },
      "execution_count": 40,
      "outputs": [
        {
          "output_type": "execute_result",
          "data": {
            "text/plain": [
              "[1712783493, 1712783494]"
            ]
          },
          "metadata": {},
          "execution_count": 40
        }
      ]
    },
    {
      "cell_type": "markdown",
      "source": [
        "We can see that the list continued to carry forward the data points from the function and from each new variable instatiation."
      ],
      "metadata": {
        "id": "-U_pNXwU2RuB"
      }
    },
    {
      "cell_type": "markdown",
      "source": [
        "# Summary\n",
        "* Pydantic allows you to set required vs. optional fields.\n",
        "* Pydantic will validate data types everytime it deserializes data into a pydantic model.\n",
        "* Pydantic allows you to assign any default data type you like so choose wisely.\n",
        "* We will go over in another notebook more advanced ways to handle default data structures like lists and dicts and how pydantic elegantly handles this."
      ],
      "metadata": {
        "id": "HTCU9KXq2hx9"
      }
    },
    {
      "cell_type": "code",
      "source": [],
      "metadata": {
        "id": "Re8YZVOv2RAR"
      },
      "execution_count": null,
      "outputs": []
    }
  ]
}