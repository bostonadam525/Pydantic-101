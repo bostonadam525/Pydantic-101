{
 "cells": [
  {
   "cell_type": "markdown",
   "metadata": {},
   "source": [
    "# MongoDB + Pydantic Experiment for RadLex Ontology Data Transformations\n",
    "* Date: 4/3/2024\n",
    "* Notebook completed by Adam Lang\n",
    "* We will do the following in this notebook:\n",
    "1. Query MongoDB instance.\n",
    "2. Extract a collection from a database.\n",
    "3. Transform the text in the collection.\n",
    "4. Query the collection in the MongoDB for specific unique values.\n",
    "5. Write the transformed text back to a new collection in MongoDB."
   ]
  },
  {
   "cell_type": "code",
   "execution_count": 6,
   "metadata": {},
   "outputs": [],
   "source": [
    "# import local modules\n",
    "from openimagingdatamodel.ontology_tools import Transform\n",
    "\n",
    "\n",
    "# import MongoDB modules\n",
    "import motor.motor_asyncio\n",
    "from dotenv import dotenv_values"
   ]
  },
  {
   "cell_type": "code",
   "execution_count": 7,
   "metadata": {},
   "outputs": [
    {
     "name": "stdout",
     "output_type": "stream",
     "text": [
      "Count of documents in the collection: 46761\n"
     ]
    }
   ],
   "source": [
    "# establish connection to MongoDB\n",
    "config = dotenv_values(\".env\")\n",
    "client = motor.motor_asyncio.AsyncIOMotorClient(config[\"ATLAS_DSN\"])\n",
    "db = client[\"ontologies\"]\n",
    "collection = db[\"RadLex\"]\n",
    "# Get the count of documents in the collection to confirm that the data was loaded\n",
    "count = await collection.count_documents({})\n",
    "print(f\"Count of documents in the collection: {count}\")"
   ]
  },
  {
   "cell_type": "code",
   "execution_count": 8,
   "metadata": {},
   "outputs": [],
   "source": [
    "# Access the ontologies database and \"RadLex\" collection\n",
    "doc = await collection.find_one()"
   ]
  },
  {
   "cell_type": "code",
   "execution_count": 9,
   "metadata": {},
   "outputs": [
    {
     "name": "stdout",
     "output_type": "stream",
     "text": [
      "{'_id': ObjectId('65f84ed1f80fad5323c79c1f'), 'Class ID': 'http://radlex.org/RID/RID35591', 'Preferred Label': 'string-of-pearls sign of bowel', 'Definitions': 'Oblique or horizontal row of air bubbles visible on abdominal radiograph; almost always indicates small bowel obstruction; air is trapped between valvulae conniventes along the superior wall of the intestine.', 'Obsolete': False, 'Parents': 'http://radlex.org/RID/RID29023', 'http://data': {'bioontology': {'org/metadata/prefixIRI': 'RID35591'}}, 'http://radlex': {'org/RID/Anatomical_Site': 'http://radlex.org/RID/RID132', 'org/RID/Comment': 'http://radiology.rsna.org/cgi/content/full/214/1/157', 'org/RID/Definition': 'Oblique or horizontal row of air bubbles visible on abdominal radiograph; almost always indicates small bowel obstruction; air is trapped between valvulae conniventes along the superior wall of the intestine.', 'org/RID/May_Be_Caused_By': 'http://radlex.org/RID/RID4962', 'org/RID/Preferred_name': 'string-of-pearls sign of bowel', 'org/RID/Preferred_name_German': 'string-of-pearls sign of bowel (EN)', 'org/RID/Related_modality': 'http://radlex.org/RID/RID10345', 'org/RID/Source': 'Radiology 2000; 214:157-158'}}\n"
     ]
    }
   ],
   "source": [
    "print(doc)"
   ]
  },
  {
   "cell_type": "markdown",
   "metadata": {},
   "source": [
    "### MongoDB Query to extract fields in the http://radlex Object field\n",
    "* We need to query this so we can determine if we have all of the keys in the RadLexProperties pydantic class in the radlex_importer.py file"
   ]
  },
  {
   "cell_type": "code",
   "execution_count": 18,
   "metadata": {},
   "outputs": [
    {
     "name": "stdout",
     "output_type": "stream",
     "text": [
      "['Synonym_German', 'Regional_Part_Of', 'JHU_White-Matter_Tractography_Atlas', 'Preferred_name', 'Branch_Of', 'Comment', 'Projects_To', 'Tributary_Of', 'Has_Blood_Supply', 'SNOMED_ID', 'FMAID', 'Related_modality', 'Receives_Drainage_From', 'Misspelling_of_term', 'Has_Entrapment_Site', 'May_Cause', 'Acronym', 'Sends_Output_To', 'Origin_of', 'Constitutional_Part_Of', 'Bounded_by', 'Unsanctioned_Term', 'Part_Of', 'Attaches_to', 'Receives_Projection_From', 'AAL', 'Has_Innervation_Source', 'Talairach', 'Synonym', 'Receives_Input_From', 'Blood_Supply_of', 'Preferred_name_German', 'Anatomical_Site', 'Lymphatic_Drainage_Of', 'Surrounded_by', 'Preferred_Name_for_Obsolete', 'Has_Constitutional_Part', 'Posterior_to', 'Bounds', 'JHU_DTI-81', 'Continuous_With', 'Has_insertion', 'Drains_Into', 'Projects_From', 'Inferior_to', 'External_to', 'Source', 'May_Be_Caused_By', 'Has_Part', 'Replaced_by', 'Member_Of', 'UMLS_Term', 'Proximal_to', 'Definition', 'Has_Branch', 'Radlex_version_of_class_change', 'Receives_attachment_from', 'CMA_Label', 'Contains', 'Anterior_to', 'UMLS_ID', 'Segment_Of', 'Freesurfer', 'Superior_to', 'Has_Member', 'Created', 'Innervates', 'Distal_to', 'Has_origin', 'Surrounds', 'Has_Regional_Part', 'Contained_In', 'Insertion_of', 'Lymphatic_Drainage']\n"
     ]
    }
   ],
   "source": [
    "# Run the MongoDB aggregation query\n",
    "pipeline = [\n",
    "    {\n",
    "        \"$addFields\": {\n",
    "            \"radlexArray\": { \"$objectToArray\": \"$http://radlex\" }\n",
    "        }\n",
    "    },\n",
    "    {\n",
    "        \"$unwind\": \"$radlexArray\"\n",
    "    },\n",
    "    {\n",
    "        \"$addFields\": {\n",
    "            \"radlexField\": {\n",
    "                \"$arrayElemAt\": [\n",
    "                    { \"$split\": [ \"$radlexArray.k\", \"/\" ] },\n",
    "                    -1\n",
    "                ]\n",
    "            }\n",
    "        }\n",
    "    },\n",
    "    {\n",
    "        \"$group\": {\n",
    "            \"_id\": None,\n",
    "            \"uniqueFields\": { \"$addToSet\": \"$radlexField\" }\n",
    "        }\n",
    "    }\n",
    "]\n",
    "\n",
    "cursor = collection.aggregate(pipeline)\n",
    "result = await cursor.to_list(length=110)  # adjust the length as needed\n",
    "\n",
    "# Print the unique fields\n",
    "for doc in result:\n",
    "    fields = doc['uniqueFields']\n",
    "    print(fields)"
   ]
  },
  {
   "cell_type": "code",
   "execution_count": 19,
   "metadata": {},
   "outputs": [
    {
     "name": "stdout",
     "output_type": "stream",
     "text": [
      "74\n"
     ]
    }
   ],
   "source": [
    "## len of unique fields\n",
    "print(len(fields))"
   ]
  },
  {
   "cell_type": "code",
   "execution_count": 33,
   "metadata": {},
   "outputs": [
    {
     "name": "stdout",
     "output_type": "stream",
     "text": [
      "True\n",
      "True\n",
      "True\n",
      "True\n",
      "False\n",
      "True\n",
      "True\n",
      "True\n",
      "True\n"
     ]
    }
   ],
   "source": [
    "## is in list\n",
    "\n",
    "query_list = ['Anatomical_Site', 'Comment', 'Definition', 'May_Be_Caused_By', 'is_a', 'Source', 'Related_modality', 'Preferred_name', 'Preferred_name_German']\n",
    "\n",
    "\n",
    "# is in\n",
    "for query in query_list:\n",
    "    print(query in fields)"
   ]
  },
  {
   "cell_type": "code",
   "execution_count": 25,
   "metadata": {},
   "outputs": [
    {
     "name": "stdout",
     "output_type": "stream",
     "text": [
      "{'Member_Of', 'Origin_of', 'External_to', 'Drains_Into', 'Receives_Drainage_From', 'Has_Member', 'Branch_Of', 'Has_Branch', 'Has_Innervation_Source', 'Has_Regional_Part', 'Misspelling_of_term', 'Lymphatic_Drainage', 'FMAID', 'Bounded_by', 'Insertion_of', 'Surrounded_by', 'Created', 'Acronym', 'AAL', 'JHU_DTI-81', 'Projects_To', 'Posterior_to', 'Unsanctioned_Term', 'JHU_White-Matter_Tractography_Atlas', 'Distal_to', 'Attaches_to', 'Has_Blood_Supply', 'Lymphatic_Drainage_Of', 'Receives_Input_From', 'Anterior_to', 'Synonym_German', 'Has_Part', 'Surrounds', 'Inferior_to', 'Segment_Of', 'Preferred_Name_for_Obsolete', 'Synonym', 'UMLS_Term', 'Regional_Part_Of', 'Contained_In', 'Proximal_to', 'Part_Of', 'Constitutional_Part_Of', 'Innervates', 'UMLS_ID', 'Talairach', 'Projects_From', 'Sends_Output_To', 'Has_origin', 'Has_Entrapment_Site', 'Continuous_With', 'Has_Constitutional_Part', 'Freesurfer', 'Has_insertion', 'Radlex_version_of_class_change', 'Blood_Supply_of', 'Tributary_Of', 'Bounds', 'CMA_Label', 'SNOMED_ID', 'Receives_Projection_From', 'Replaced_by', 'Contains', 'May_Cause', 'Superior_to', 'Receives_attachment_from'}\n",
      "66\n"
     ]
    }
   ],
   "source": [
    "## transform to sets and compare\n",
    "query_set = set(fields).difference(set(query_list))\n",
    "\n",
    "## print the difference\n",
    "print(query_set)\n",
    "print(len(query_set))"
   ]
  },
  {
   "cell_type": "code",
   "execution_count": 32,
   "metadata": {},
   "outputs": [
    {
     "name": "stdout",
     "output_type": "stream",
     "text": [
      "['AAL', 'Acronym', 'Anterior_to', 'Attaches_to', 'Blood_Supply_of', 'Bounded_by', 'Bounds', 'Branch_Of', 'CMA_Label', 'Constitutional_Part_Of', 'Contained_In', 'Contains', 'Continuous_With', 'Created', 'Distal_to', 'Drains_Into', 'External_to', 'FMAID', 'Freesurfer', 'Has_Blood_Supply', 'Has_Branch', 'Has_Constitutional_Part', 'Has_Entrapment_Site', 'Has_Innervation_Source', 'Has_Member', 'Has_Part', 'Has_Regional_Part', 'Has_insertion', 'Has_origin', 'Inferior_to', 'Innervates', 'Insertion_of', 'JHU_DTI-81', 'JHU_White-Matter_Tractography_Atlas', 'Lymphatic_Drainage', 'Lymphatic_Drainage_Of', 'May_Cause', 'Member_Of', 'Misspelling_of_term', 'Origin_of', 'Part_Of', 'Posterior_to', 'Preferred_Name_for_Obsolete', 'Projects_From', 'Projects_To', 'Proximal_to', 'Radlex_version_of_class_change', 'Receives_Drainage_From', 'Receives_Input_From', 'Receives_Projection_From', 'Receives_attachment_from', 'Regional_Part_Of', 'Replaced_by', 'SNOMED_ID', 'Segment_Of', 'Sends_Output_To', 'Superior_to', 'Surrounded_by', 'Surrounds', 'Synonym', 'Synonym_German', 'Talairach', 'Tributary_Of', 'UMLS_ID', 'UMLS_Term', 'Unsanctioned_Term']\n",
      "66\n"
     ]
    }
   ],
   "source": [
    "# set to sorted list\n",
    "query_list = sorted(list(query_set))\n",
    "\n",
    "# print the sorted list\n",
    "print(query_list)\n",
    "print(len(query_list))"
   ]
  },
  {
   "cell_type": "code",
   "execution_count": null,
   "metadata": {},
   "outputs": [],
   "source": []
  },
  {
   "cell_type": "markdown",
   "metadata": {},
   "source": [
    "### Code to try transformation before writing to MongoDB"
   ]
  },
  {
   "cell_type": "code",
   "execution_count": 10,
   "metadata": {},
   "outputs": [
    {
     "name": "stdout",
     "output_type": "stream",
     "text": [
      "{\n",
      "  \"id\": \"RID35591\",\n",
      "  \"preferredLabel\": \"string-of-pearls sign of bowel\",\n",
      "  \"synonyms\": null,\n",
      "  \"parent\": \"RID29023\",\n",
      "  \"definition\": \"Oblique or horizontal row of air bubbles visible on abdominal radiograph; almost always indicates small bowel obstruction; air is trapped between valvulae conniventes along the superior wall of the intestine.\",\n",
      "  \"radlexProperties\": {\n",
      "    \"anatomicalSite\": \"RID132\",\n",
      "    \"comment\": \"157\",\n",
      "    \"definition\": \"Oblique or horizontal row of air bubbles visible on abdominal radiograph; almost always indicates small bowel obstruction; air is trapped between valvulae conniventes along the superior wall of the intestine.\",\n",
      "    \"mayBeCausedBy\": \"RID4962\",\n",
      "    \"is_A\": null,\n",
      "    \"source\": \"Radiology 2000; 214:157-158\",\n",
      "    \"relatedModality\": \"RID10345\",\n",
      "    \"preferredName\": \"string-of-pearls sign of bowel\",\n",
      "    \"preferredNameGerman\": \"string-of-pearls sign of bowel (EN)\"\n",
      "  }\n",
      "}\n"
     ]
    }
   ],
   "source": [
    "t = Transform(doc)\n",
    "\n",
    "t_doc = t.transform_func()\n",
    "\n",
    "print(t_doc.model_dump_json(indent=2))\n",
    "\n"
   ]
  },
  {
   "cell_type": "code",
   "execution_count": 6,
   "metadata": {},
   "outputs": [
    {
     "name": "stdout",
     "output_type": "stream",
     "text": [
      "{\n",
      "  \"id\": \"RID35591\",\n",
      "  \"preferredLabel\": \"string-of-pearls sign of bowel\",\n",
      "  \"synonyms\": null,\n",
      "  \"parent\": \"RID29023\",\n",
      "  \"definition\": \"Oblique or horizontal row of air bubbles visible on abdominal radiograph; almost always indicates small bowel obstruction; air is trapped between valvulae conniventes along the superior wall of the intestine.\",\n",
      "  \"radlexProperties\": {\n",
      "    \"anatomicalSite\": \"RID132\",\n",
      "    \"comment\": \"157\",\n",
      "    \"definition\": \"Oblique or horizontal row of air bubbles visible on abdominal radiograph; almost always indicates small bowel obstruction; air is trapped between valvulae conniventes along the superior wall of the intestine.\",\n",
      "    \"mayBeCausedBy\": \"RID4962\",\n",
      "    \"is_A\": null,\n",
      "    \"source\": \"Radiology 2000; 214:157-158\",\n",
      "    \"relatedModality\": \"RID10345\",\n",
      "    \"preferredName\": \"string-of-pearls sign of bowel\",\n",
      "    \"preferredNameGerman\": \"string-of-pearls sign of bowel (EN)\"\n",
      "  }\n",
      "}\n",
      "{\n",
      "  \"id\": \"RID45335\",\n",
      "  \"preferredLabel\": \"peripheral segment of nerve to left sternocleidomastoid\",\n",
      "  \"synonyms\": null,\n",
      "  \"parent\": \"RID45333\",\n",
      "  \"definition\": \"\",\n",
      "  \"radlexProperties\": {\n",
      "    \"anatomicalSite\": null,\n",
      "    \"comment\": null,\n",
      "    \"definition\": null,\n",
      "    \"mayBeCausedBy\": null,\n",
      "    \"is_A\": null,\n",
      "    \"source\": null,\n",
      "    \"relatedModality\": null,\n",
      "    \"preferredName\": \"peripheral segment of nerve to left sternocleidomastoid\",\n",
      "    \"preferredNameGerman\": \"peripheres Segment des Nervs zum linken Musculus sternocleidomastoideus\"\n",
      "  }\n",
      "}\n",
      "{\n",
      "  \"id\": \"RID30121\",\n",
      "  \"preferredLabel\": \"surface of cardia of stomach\",\n",
      "  \"synonyms\": null,\n",
      "  \"parent\": \"RID30094\",\n",
      "  \"definition\": \"\",\n",
      "  \"radlexProperties\": {\n",
      "    \"anatomicalSite\": null,\n",
      "    \"comment\": null,\n",
      "    \"definition\": null,\n",
      "    \"mayBeCausedBy\": null,\n",
      "    \"is_A\": null,\n",
      "    \"source\": null,\n",
      "    \"relatedModality\": null,\n",
      "    \"preferredName\": \"surface of cardia of stomach\",\n",
      "    \"preferredNameGerman\": \"Oberfläche der Kardia des Magens\"\n",
      "  }\n",
      "}\n",
      "{\n",
      "  \"id\": \"RID38411\",\n",
      "  \"preferredLabel\": \"postcentral branch of spinal branch of left third lumbar artery\",\n",
      "  \"synonyms\": null,\n",
      "  \"parent\": \"RID38409\",\n",
      "  \"definition\": \"\",\n",
      "  \"radlexProperties\": {\n",
      "    \"anatomicalSite\": null,\n",
      "    \"comment\": null,\n",
      "    \"definition\": null,\n",
      "    \"mayBeCausedBy\": null,\n",
      "    \"is_A\": null,\n",
      "    \"source\": null,\n",
      "    \"relatedModality\": null,\n",
      "    \"preferredName\": \"postcentral branch of spinal branch of left third lumbar artery\",\n",
      "    \"preferredNameGerman\": \"Ramus postcentralis des Ramus spinalis der linken Arteria lumbalis III\"\n",
      "  }\n",
      "}\n",
      "{\n",
      "  \"id\": \"RID30527\",\n",
      "  \"preferredLabel\": \"solitary lymphoid follicle of cecum\",\n",
      "  \"synonyms\": null,\n",
      "  \"parent\": \"RID30526\",\n",
      "  \"definition\": \"\",\n",
      "  \"radlexProperties\": {\n",
      "    \"anatomicalSite\": null,\n",
      "    \"comment\": null,\n",
      "    \"definition\": null,\n",
      "    \"mayBeCausedBy\": null,\n",
      "    \"is_A\": null,\n",
      "    \"source\": null,\n",
      "    \"relatedModality\": null,\n",
      "    \"preferredName\": \"solitary lymphoid follicle of cecum\",\n",
      "    \"preferredNameGerman\": \"solitärer Lymphfollikel des Caecums\"\n",
      "  }\n",
      "}\n",
      "{\n",
      "  \"id\": \"RID32592\",\n",
      "  \"preferredLabel\": \"superior pancreatic lymphatic vessel\",\n",
      "  \"synonyms\": null,\n",
      "  \"parent\": \"RID32591\",\n",
      "  \"definition\": \"\",\n",
      "  \"radlexProperties\": {\n",
      "    \"anatomicalSite\": null,\n",
      "    \"comment\": null,\n",
      "    \"definition\": null,\n",
      "    \"mayBeCausedBy\": null,\n",
      "    \"is_A\": null,\n",
      "    \"source\": null,\n",
      "    \"relatedModality\": null,\n",
      "    \"preferredName\": \"superior pancreatic lymphatic vessel\",\n",
      "    \"preferredNameGerman\": \"oberes pankreatisches Lymphgefäß\"\n",
      "  }\n",
      "}\n",
      "{\n",
      "  \"id\": \"RID10188\",\n",
      "  \"preferredLabel\": \"stapedius\",\n",
      "  \"synonyms\": null,\n",
      "  \"parent\": \"RID10185\",\n",
      "  \"definition\": \"The stapedius muscle arises from the wall of the middle ear and is inserted into the neck of the stapes. Its action is to pull the head of the stapes backward. [MeSH]\",\n",
      "  \"radlexProperties\": {\n",
      "    \"anatomicalSite\": null,\n",
      "    \"comment\": null,\n",
      "    \"definition\": \"The stapedius muscle arises from the wall of the middle ear and is inserted into the neck of the stapes. Its action is to pull the head of the stapes backward. [MeSH]\",\n",
      "    \"mayBeCausedBy\": null,\n",
      "    \"is_A\": null,\n",
      "    \"source\": null,\n",
      "    \"relatedModality\": null,\n",
      "    \"preferredName\": \"stapedius\",\n",
      "    \"preferredNameGerman\": \"Musculus stapedius\"\n",
      "  }\n",
      "}\n",
      "{\n",
      "  \"id\": \"RID22326\",\n",
      "  \"preferredLabel\": \"trunk of superficial transverse perineal muscle branch of perineal nerve\",\n",
      "  \"synonyms\": null,\n",
      "  \"parent\": \"RID22325\",\n",
      "  \"definition\": \"\",\n",
      "  \"radlexProperties\": {\n",
      "    \"anatomicalSite\": null,\n",
      "    \"comment\": null,\n",
      "    \"definition\": null,\n",
      "    \"mayBeCausedBy\": null,\n",
      "    \"is_A\": null,\n",
      "    \"source\": null,\n",
      "    \"relatedModality\": null,\n",
      "    \"preferredName\": \"trunk of superficial transverse perineal muscle branch of perineal nerve\",\n",
      "    \"preferredNameGerman\": \"Truncus des Ramus des Nervus perinealis zum Musculus transversus perinei superficialis\"\n",
      "  }\n",
      "}\n",
      "{\n",
      "  \"id\": \"RID27427\",\n",
      "  \"preferredLabel\": \"t4 segment of ventral gray column of spinal cord\",\n",
      "  \"synonyms\": [\n",
      "    \"t4 segment of anterior gray column of spinal cord\"\n",
      "  ],\n",
      "  \"parent\": \"RID27417\",\n",
      "  \"definition\": \"\",\n",
      "  \"radlexProperties\": {\n",
      "    \"anatomicalSite\": null,\n",
      "    \"comment\": null,\n",
      "    \"definition\": null,\n",
      "    \"mayBeCausedBy\": null,\n",
      "    \"is_A\": null,\n",
      "    \"source\": null,\n",
      "    \"relatedModality\": null,\n",
      "    \"preferredName\": \"t4 segment of ventral gray column of spinal cord\",\n",
      "    \"preferredNameGerman\": \"Segment T4 der Vordersäule des Rückenmarks\"\n",
      "  }\n",
      "}\n",
      "{\n",
      "  \"id\": \"RID427\",\n",
      "  \"preferredLabel\": \"root of mesentery\",\n",
      "  \"synonyms\": [\n",
      "    \"radix mesenterii,mesentery root,radix mesenterii\"\n",
      "  ],\n",
      "  \"parent\": \"RID29797\",\n",
      "  \"definition\": \"\",\n",
      "  \"radlexProperties\": {\n",
      "    \"anatomicalSite\": null,\n",
      "    \"comment\": null,\n",
      "    \"definition\": null,\n",
      "    \"mayBeCausedBy\": null,\n",
      "    \"is_A\": null,\n",
      "    \"source\": null,\n",
      "    \"relatedModality\": null,\n",
      "    \"preferredName\": \"root of mesentery\",\n",
      "    \"preferredNameGerman\": \"Mesenterialwurzel\"\n",
      "  }\n",
      "}\n"
     ]
    }
   ],
   "source": [
    "# Check multiple documents\n",
    "docs = await collection.find({}).to_list(length=10)\n",
    "for doc in docs:\n",
    "    t = Transform(doc)\n",
    "    t_doc = t.transform_func()\n",
    "    print(t_doc.model_dump_json(indent=2))"
   ]
  },
  {
   "cell_type": "code",
   "execution_count": null,
   "metadata": {},
   "outputs": [],
   "source": []
  },
  {
   "cell_type": "code",
   "execution_count": null,
   "metadata": {},
   "outputs": [],
   "source": []
  },
  {
   "cell_type": "code",
   "execution_count": null,
   "metadata": {},
   "outputs": [],
   "source": []
  },
  {
   "cell_type": "code",
   "execution_count": null,
   "metadata": {},
   "outputs": [],
   "source": []
  },
  {
   "cell_type": "markdown",
   "metadata": {},
   "source": [
    "# Code to write transformed RadLex to new 'radlex' collection in MongoDB"
   ]
  },
  {
   "cell_type": "code",
   "execution_count": 4,
   "metadata": {},
   "outputs": [
    {
     "ename": "NameError",
     "evalue": "name 'radlex_old' is not defined",
     "output_type": "error",
     "traceback": [
      "\u001b[1;31m---------------------------------------------------------------------------\u001b[0m",
      "\u001b[1;31mNameError\u001b[0m                                 Traceback (most recent call last)",
      "Cell \u001b[1;32mIn[4], line 6\u001b[0m\n\u001b[0;32m      2\u001b[0m transformed_docs \u001b[38;5;241m=\u001b[39m []\n\u001b[0;32m      5\u001b[0m \u001b[38;5;66;03m# iterate over documents in \"RadLex\" collection\u001b[39;00m\n\u001b[1;32m----> 6\u001b[0m \u001b[38;5;28;01mfor\u001b[39;00m doc \u001b[38;5;129;01min\u001b[39;00m \u001b[43mradlex_old\u001b[49m\u001b[38;5;241m.\u001b[39mfind():\n\u001b[0;32m      7\u001b[0m     \u001b[38;5;66;03m# Transform the document\u001b[39;00m\n\u001b[0;32m      8\u001b[0m     transformed_doc \u001b[38;5;241m=\u001b[39m Transform(doc)\n\u001b[0;32m      9\u001b[0m     \u001b[38;5;66;03m# Append the transformed document to the list\u001b[39;00m\n",
      "\u001b[1;31mNameError\u001b[0m: name 'radlex_old' is not defined"
     ]
    }
   ],
   "source": [
    "# Create a list to store the transformed documents\n",
    "transformed_docs = []\n",
    "\n",
    "\n",
    "# iterate over documents in \"RadLex\" collection\n",
    "for doc in radlex_old.find():\n",
    "    # Transform the document\n",
    "    transformed_doc = Transform(doc)\n",
    "    # Append the transformed document to the list\n",
    "    transformed_docs.append(transformed_doc)"
   ]
  },
  {
   "cell_type": "code",
   "execution_count": null,
   "metadata": {},
   "outputs": [],
   "source": [
    "# Access the new \"radlex\" collection in MongoDB\n",
    "radlex_new = db['radlex']\n",
    "\n",
    "\n",
    "\n",
    "# write the transformed documents to the new \"radlex\" collection\n",
    "radlex_new.insert_many(transformed_docs)"
   ]
  }
 ],
 "metadata": {
  "kernelspec": {
   "display_name": "Python 3",
   "language": "python",
   "name": "python3"
  },
  "language_info": {
   "codemirror_mode": {
    "name": "ipython",
    "version": 3
   },
   "file_extension": ".py",
   "mimetype": "text/x-python",
   "name": "python",
   "nbconvert_exporter": "python",
   "pygments_lexer": "ipython3",
   "version": "3.11.8"
  }
 },
 "nbformat": 4,
 "nbformat_minor": 2
}
